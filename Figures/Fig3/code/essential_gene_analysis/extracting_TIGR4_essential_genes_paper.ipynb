{
 "cells": [
  {
   "cell_type": "markdown",
   "id": "f5a85d7e-8ff1-4907-a966-c0228687d95f",
   "metadata": {},
   "source": [
    "# Extracting 'essential' gene protein sequences identified by van Opijnen (2009) from TIGR4 closed genome"
   ]
  },
  {
   "cell_type": "markdown",
   "id": "e77bf9db-06b1-4789-a080-e0f874e82c98",
   "metadata": {},
   "source": [
    "In 2009, van Opijnen et al. (https://www.nature.com/articles/nmeth.1377) developed a method to determine gene essentiality in a high throughput way. They used S. pneumoniae as the model organism (TIGR4 strain, specifically) and identified 398 genes that were likely to be essential (necessary for survival). 346 of these genes were estimated essential with high certainty, 339 of these have high quality sequences in the genomic feature file used by van Opijnen, et al. AND appear consistently in our draft pneumococcal genomes.\n",
    "\n",
    "For this, I first have to extract the locus tag for the essential genes identified in the van Opijnen et al. (2009) paper and then use those locus tags to extract the protein sequences from the TIGR4 closed genome. I have downloaded the genomic features file for the closed TIGR4 genome from NCBI (NCBI accession: GCF_000006885.1). This notebook generates a fasta file with the protein sequences for these essential genes, so that I can query them against the pneumococcal pangenome analyses."
   ]
  },
  {
   "cell_type": "markdown",
   "id": "b234b074-3c87-4487-b0a4-54a79482c0b9",
   "metadata": {},
   "source": [
    "### Import necessary packages"
   ]
  },
  {
   "cell_type": "code",
   "execution_count": 66,
   "id": "afd3bfb8-a7b6-4c3f-a698-f8af51503a8f",
   "metadata": {},
   "outputs": [],
   "source": [
    "import pandas as pd\n",
    "from Bio import SeqIO\n",
    "from Bio.Seq import Seq\n",
    "from Bio.SeqRecord import SeqRecord"
   ]
  },
  {
   "cell_type": "markdown",
   "id": "f0a7562d-dc02-443c-acc9-6ac482d52948",
   "metadata": {},
   "source": [
    "### Extract locus tags from van Opijnen et al. supplementary data"
   ]
  },
  {
   "cell_type": "code",
   "execution_count": 67,
   "id": "33887a8e-7044-404d-9254-f81801cd7026",
   "metadata": {},
   "outputs": [],
   "source": [
    "# Import data\n",
    "opij_data = pd.read_excel('~/tnseq_essential_genes_paper_data.xls')\n",
    "# Table ends at row 2086, but has some other annotations\n",
    "opij_data_clean = opij_data.iloc[:2086 + 1]  "
   ]
  },
  {
   "cell_type": "code",
   "execution_count": 68,
   "id": "5fe954b2-5f25-494c-ba92-096fac305f86",
   "metadata": {},
   "outputs": [],
   "source": [
    "# Filter by genes identified as essential\n",
    "essential_df = opij_data_clean[opij_data_clean['essential']=='E']\n",
    "\n",
    "# Extract locus tags \n",
    "target_old_locus_tags = list(essential_df['locus'])"
   ]
  },
  {
   "cell_type": "code",
   "execution_count": 69,
   "id": "f92c4bb6-43db-42d5-930e-e2ce9eb820dd",
   "metadata": {},
   "outputs": [],
   "source": [
    "# Input GenBank file\n",
    "input_gbff = \"~/TIGR4_closed_ref_2001.gbff\"\n",
    "\n",
    "# Output FASTA file\n",
    "output_fasta = \"~/strep_pneumo_essential_protein_seqs.fasta\"\n",
    "\n",
    "with open(output_fasta, 'w') as out_fasta:\n",
    "    for record in SeqIO.parse(input_gbff, \"genbank\"):\n",
    "        for feature in record.features:\n",
    "            if feature.type == \"CDS\":\n",
    "                qualifiers = feature.qualifiers\n",
    "                old_locus_tag = qualifiers.get('old_locus_tag', [None])[0]\n",
    "                if old_locus_tag in target_old_locus_tags:\n",
    "                    gene_name = qualifiers.get('gene', ['unnamed_gene'])[0]\n",
    "                    translation = qualifiers.get('translation', [''])[0]\n",
    "                    out_fasta.write(f'>{gene_name}-{old_locus_tag}\\n{translation}\\n')             "
   ]
  },
  {
   "cell_type": "markdown",
   "id": "2b5c7d3f-cfdf-4cd8-8122-a09c788c92b3",
   "metadata": {},
   "source": [
    "## Function to translate dna fasta file into protein fasta file"
   ]
  },
  {
   "cell_type": "markdown",
   "id": "f2a999e3-2b54-4dd7-bff4-b3d1c44ab8d4",
   "metadata": {},
   "source": [
    "This translates the CLARC output nucleotide file into amino acid sequences, to that the essential genes can be queried."
   ]
  },
  {
   "cell_type": "code",
   "execution_count": 61,
   "id": "77543072-1f0c-4b82-aa5a-9869e9f38277",
   "metadata": {},
   "outputs": [],
   "source": [
    "def translate_dna_to_protein(input_fasta, output_fasta):\n",
    "    with open(input_fasta, \"r\") as fasta_in, open(output_fasta, \"w\") as fasta_out:\n",
    "\n",
    "        for record in SeqIO.parse(fasta_in, \"fasta\"):\n",
    "            protein_seq = record.seq.translate()\n",
    "            \n",
    "            # Remove the stop codon (*) from the end of the protein sequence\n",
    "            if protein_seq.endswith(\"*\"):\n",
    "                protein_seq = protein_seq[:-1]\n",
    "                \n",
    "            protein_record = SeqRecord(protein_seq, id=record.id, description=record.description)\n",
    "            SeqIO.write(protein_record, fasta_out, \"fasta\")"
   ]
  }
 ],
 "metadata": {
  "kernelspec": {
   "display_name": "Python 3 (ipykernel)",
   "language": "python",
   "name": "python3"
  },
  "language_info": {
   "codemirror_mode": {
    "name": "ipython",
    "version": 3
   },
   "file_extension": ".py",
   "mimetype": "text/x-python",
   "name": "python",
   "nbconvert_exporter": "python",
   "pygments_lexer": "ipython3",
   "version": "3.8.0"
  }
 },
 "nbformat": 4,
 "nbformat_minor": 5
}
