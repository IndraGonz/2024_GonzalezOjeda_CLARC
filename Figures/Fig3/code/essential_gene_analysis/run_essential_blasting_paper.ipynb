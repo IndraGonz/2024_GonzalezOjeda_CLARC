{
 "cells": [
  {
   "cell_type": "markdown",
   "id": "d2f68dd1-65bc-48a6-88b9-1dbf50c0ee09",
   "metadata": {},
   "source": [
    "# Protein BLAST-ing Roary and Roary+CLARC results to database of essential gene sequences"
   ]
  },
  {
   "cell_type": "markdown",
   "id": "54b6540a-c7b5-411a-8a88-e199044dfeab",
   "metadata": {},
   "source": [
    "This notebook will take each of our results folders (as found in Zenodo folder 10.5281/zenodo.14187853) as input and then take the original Roary accessory and core gene sequences, and the new CLARC accessory and core gene sequences, and it:\n",
    "    \n",
    "(1) Translates them into proteins and saves them in the appropiate locations\n",
    "(2) Calls the .sh script to blast against essential gene database, and save the results in the appropiate locations\n",
    "\n",
    "Let's go!\n",
    "\n",
    "The same function can be used on each of the three folders (i80, i90, i95), just have to change the path name. This will create a folder in each subdirectory named 'essential_blasting_sw'. The Zenodo folders already have these results included. Therefore, if you want to try this, just delete that folder and run the code here."
   ]
  },
  {
   "cell_type": "markdown",
   "id": "839dd486-47f3-47ad-ae5e-cebde5137640",
   "metadata": {},
   "source": [
    "### Import necessary packages"
   ]
  },
  {
   "cell_type": "code",
   "execution_count": 5,
   "id": "713cf49f-e5ad-4a43-ab8c-757829e9821c",
   "metadata": {},
   "outputs": [],
   "source": [
    "import subprocess\n",
    "from Bio import SeqIO\n",
    "from Bio.Seq import Seq\n",
    "from Bio.SeqRecord import SeqRecord\n",
    "import os"
   ]
  },
  {
   "cell_type": "markdown",
   "id": "07e70287-dbec-4c25-abe0-dd2f1d55faf2",
   "metadata": {},
   "source": [
    "### Translate and pBLAST"
   ]
  },
  {
   "cell_type": "code",
   "execution_count": 6,
   "id": "820c6de1-3809-401d-95fa-d85dc972e49f",
   "metadata": {},
   "outputs": [],
   "source": [
    "def translate_dna_to_protein(input_fasta, output_fasta):\n",
    "    protein_records = []\n",
    "    for record in SeqIO.parse(input_fasta, \"fasta\"):\n",
    "        protein_seq = record.seq.translate()\n",
    "        protein_record = SeqRecord(protein_seq, id=record.id, description=record.description)\n",
    "        protein_records.append(protein_record)\n",
    "    SeqIO.write(protein_records, output_fasta, \"fasta\")\n",
    "\n",
    "def run_blast_script(acc_cogs, core_cogs, out_acc, out_core):\n",
    "    blast_script_path = \"./essential_protein_blast_paper.sh\"\n",
    "    subprocess.run([blast_script_path, acc_cogs, core_cogs, out_acc, out_core])"
   ]
  },
  {
   "cell_type": "code",
   "execution_count": 8,
   "id": "c6b74e17-6ff2-4dfa-9887-76d478c26d06",
   "metadata": {},
   "outputs": [
    {
     "name": "stderr",
     "output_type": "stream",
     "text": [
      "\n",
      "CommandNotFoundError: Your shell has not been properly configured to use 'conda activate'.\n",
      "To initialize your shell, run\n",
      "\n",
      "    $ conda init <SHELL_NAME>\n",
      "\n",
      "Currently supported shells are:\n",
      "  - bash\n",
      "  - fish\n",
      "  - tcsh\n",
      "  - xonsh\n",
      "  - zsh\n",
      "  - powershell\n",
      "\n",
      "See 'conda init --help' for more information and options.\n",
      "\n",
      "IMPORTANT: You may need to close and restart your shell after running 'conda init'.\n",
      "\n",
      "\n"
     ]
    },
    {
     "name": "stdout",
     "output_type": "stream",
     "text": [
      "\n",
      "\n",
      "Building a new DB, current time: 07/08/2024 12:37:09\n",
      "New DB name:   /Users/indragonzalez/Dropbox/Lipsitch_Rotation/NFDS/Scripts/clean_projects/CLARC/analyses/essential_genes/essential_fasta/strep_pneumo_essential_protein_seqs.fasta\n",
      "New DB title:  /Users/indragonzalez/Dropbox/Lipsitch_Rotation/NFDS/Scripts/clean_projects/CLARC/analyses/essential_genes/essential_fasta/strep_pneumo_essential_protein_seqs.fasta\n",
      "Sequence type: Protein\n",
      "Deleted existing Protein BLAST database named /Users/indragonzalez/Dropbox/Lipsitch_Rotation/NFDS/Scripts/clean_projects/CLARC/analyses/essential_genes/essential_fasta/strep_pneumo_essential_protein_seqs.fasta\n",
      "Keep MBits: T\n",
      "Maximum file size: 3000000000B\n",
      "Adding sequences from FASTA; added 343 sequences in 0.00490093 seconds.\n",
      "\n",
      "\n"
     ]
    },
    {
     "name": "stderr",
     "output_type": "stream",
     "text": [
      "\n",
      "CommandNotFoundError: Your shell has not been properly configured to use 'conda activate'.\n",
      "To initialize your shell, run\n",
      "\n",
      "    $ conda init <SHELL_NAME>\n",
      "\n",
      "Currently supported shells are:\n",
      "  - bash\n",
      "  - fish\n",
      "  - tcsh\n",
      "  - xonsh\n",
      "  - zsh\n",
      "  - powershell\n",
      "\n",
      "See 'conda init --help' for more information and options.\n",
      "\n",
      "IMPORTANT: You may need to close and restart your shell after running 'conda init'.\n",
      "\n",
      "\n"
     ]
    },
    {
     "name": "stdout",
     "output_type": "stream",
     "text": [
      "\n",
      "\n",
      "Building a new DB, current time: 07/08/2024 12:37:13\n",
      "New DB name:   /Users/indragonzalez/Dropbox/Lipsitch_Rotation/NFDS/Scripts/clean_projects/CLARC/analyses/essential_genes/essential_fasta/strep_pneumo_essential_protein_seqs.fasta\n",
      "New DB title:  /Users/indragonzalez/Dropbox/Lipsitch_Rotation/NFDS/Scripts/clean_projects/CLARC/analyses/essential_genes/essential_fasta/strep_pneumo_essential_protein_seqs.fasta\n",
      "Sequence type: Protein\n",
      "Deleted existing Protein BLAST database named /Users/indragonzalez/Dropbox/Lipsitch_Rotation/NFDS/Scripts/clean_projects/CLARC/analyses/essential_genes/essential_fasta/strep_pneumo_essential_protein_seqs.fasta\n",
      "Keep MBits: T\n",
      "Maximum file size: 3000000000B\n",
      "Adding sequences from FASTA; added 343 sequences in 0.00443888 seconds.\n",
      "\n",
      "\n"
     ]
    },
    {
     "name": "stderr",
     "output_type": "stream",
     "text": [
      "\n",
      "CommandNotFoundError: Your shell has not been properly configured to use 'conda activate'.\n",
      "To initialize your shell, run\n",
      "\n",
      "    $ conda init <SHELL_NAME>\n",
      "\n",
      "Currently supported shells are:\n",
      "  - bash\n",
      "  - fish\n",
      "  - tcsh\n",
      "  - xonsh\n",
      "  - zsh\n",
      "  - powershell\n",
      "\n",
      "See 'conda init --help' for more information and options.\n",
      "\n",
      "IMPORTANT: You may need to close and restart your shell after running 'conda init'.\n",
      "\n",
      "\n"
     ]
    },
    {
     "name": "stdout",
     "output_type": "stream",
     "text": [
      "\n",
      "\n",
      "Building a new DB, current time: 07/08/2024 12:37:17\n",
      "New DB name:   /Users/indragonzalez/Dropbox/Lipsitch_Rotation/NFDS/Scripts/clean_projects/CLARC/analyses/essential_genes/essential_fasta/strep_pneumo_essential_protein_seqs.fasta\n",
      "New DB title:  /Users/indragonzalez/Dropbox/Lipsitch_Rotation/NFDS/Scripts/clean_projects/CLARC/analyses/essential_genes/essential_fasta/strep_pneumo_essential_protein_seqs.fasta\n",
      "Sequence type: Protein\n",
      "Deleted existing Protein BLAST database named /Users/indragonzalez/Dropbox/Lipsitch_Rotation/NFDS/Scripts/clean_projects/CLARC/analyses/essential_genes/essential_fasta/strep_pneumo_essential_protein_seqs.fasta\n",
      "Keep MBits: T\n",
      "Maximum file size: 3000000000B\n",
      "Adding sequences from FASTA; added 343 sequences in 0.00412488 seconds.\n",
      "\n",
      "\n"
     ]
    },
    {
     "name": "stderr",
     "output_type": "stream",
     "text": [
      "\n",
      "CommandNotFoundError: Your shell has not been properly configured to use 'conda activate'.\n",
      "To initialize your shell, run\n",
      "\n",
      "    $ conda init <SHELL_NAME>\n",
      "\n",
      "Currently supported shells are:\n",
      "  - bash\n",
      "  - fish\n",
      "  - tcsh\n",
      "  - xonsh\n",
      "  - zsh\n",
      "  - powershell\n",
      "\n",
      "See 'conda init --help' for more information and options.\n",
      "\n",
      "IMPORTANT: You may need to close and restart your shell after running 'conda init'.\n",
      "\n",
      "\n"
     ]
    },
    {
     "name": "stdout",
     "output_type": "stream",
     "text": [
      "\n",
      "\n",
      "Building a new DB, current time: 07/08/2024 12:37:21\n",
      "New DB name:   /Users/indragonzalez/Dropbox/Lipsitch_Rotation/NFDS/Scripts/clean_projects/CLARC/analyses/essential_genes/essential_fasta/strep_pneumo_essential_protein_seqs.fasta\n",
      "New DB title:  /Users/indragonzalez/Dropbox/Lipsitch_Rotation/NFDS/Scripts/clean_projects/CLARC/analyses/essential_genes/essential_fasta/strep_pneumo_essential_protein_seqs.fasta\n",
      "Sequence type: Protein\n",
      "Deleted existing Protein BLAST database named /Users/indragonzalez/Dropbox/Lipsitch_Rotation/NFDS/Scripts/clean_projects/CLARC/analyses/essential_genes/essential_fasta/strep_pneumo_essential_protein_seqs.fasta\n",
      "Keep MBits: T\n",
      "Maximum file size: 3000000000B\n",
      "Adding sequences from FASTA; added 343 sequences in 0.00431108 seconds.\n",
      "\n",
      "\n"
     ]
    },
    {
     "name": "stderr",
     "output_type": "stream",
     "text": [
      "\n",
      "CommandNotFoundError: Your shell has not been properly configured to use 'conda activate'.\n",
      "To initialize your shell, run\n",
      "\n",
      "    $ conda init <SHELL_NAME>\n",
      "\n",
      "Currently supported shells are:\n",
      "  - bash\n",
      "  - fish\n",
      "  - tcsh\n",
      "  - xonsh\n",
      "  - zsh\n",
      "  - powershell\n",
      "\n",
      "See 'conda init --help' for more information and options.\n",
      "\n",
      "IMPORTANT: You may need to close and restart your shell after running 'conda init'.\n",
      "\n",
      "\n"
     ]
    },
    {
     "name": "stdout",
     "output_type": "stream",
     "text": [
      "\n",
      "\n",
      "Building a new DB, current time: 07/08/2024 12:37:25\n",
      "New DB name:   /Users/indragonzalez/Dropbox/Lipsitch_Rotation/NFDS/Scripts/clean_projects/CLARC/analyses/essential_genes/essential_fasta/strep_pneumo_essential_protein_seqs.fasta\n",
      "New DB title:  /Users/indragonzalez/Dropbox/Lipsitch_Rotation/NFDS/Scripts/clean_projects/CLARC/analyses/essential_genes/essential_fasta/strep_pneumo_essential_protein_seqs.fasta\n",
      "Sequence type: Protein\n",
      "Deleted existing Protein BLAST database named /Users/indragonzalez/Dropbox/Lipsitch_Rotation/NFDS/Scripts/clean_projects/CLARC/analyses/essential_genes/essential_fasta/strep_pneumo_essential_protein_seqs.fasta\n",
      "Keep MBits: T\n",
      "Maximum file size: 3000000000B\n",
      "Adding sequences from FASTA; added 343 sequences in 0.00411701 seconds.\n",
      "\n",
      "\n"
     ]
    },
    {
     "name": "stderr",
     "output_type": "stream",
     "text": [
      "\n",
      "CommandNotFoundError: Your shell has not been properly configured to use 'conda activate'.\n",
      "To initialize your shell, run\n",
      "\n",
      "    $ conda init <SHELL_NAME>\n",
      "\n",
      "Currently supported shells are:\n",
      "  - bash\n",
      "  - fish\n",
      "  - tcsh\n",
      "  - xonsh\n",
      "  - zsh\n",
      "  - powershell\n",
      "\n",
      "See 'conda init --help' for more information and options.\n",
      "\n",
      "IMPORTANT: You may need to close and restart your shell after running 'conda init'.\n",
      "\n",
      "\n"
     ]
    },
    {
     "name": "stdout",
     "output_type": "stream",
     "text": [
      "\n",
      "\n",
      "Building a new DB, current time: 07/08/2024 12:37:29\n",
      "New DB name:   /Users/indragonzalez/Dropbox/Lipsitch_Rotation/NFDS/Scripts/clean_projects/CLARC/analyses/essential_genes/essential_fasta/strep_pneumo_essential_protein_seqs.fasta\n",
      "New DB title:  /Users/indragonzalez/Dropbox/Lipsitch_Rotation/NFDS/Scripts/clean_projects/CLARC/analyses/essential_genes/essential_fasta/strep_pneumo_essential_protein_seqs.fasta\n",
      "Sequence type: Protein\n",
      "Deleted existing Protein BLAST database named /Users/indragonzalez/Dropbox/Lipsitch_Rotation/NFDS/Scripts/clean_projects/CLARC/analyses/essential_genes/essential_fasta/strep_pneumo_essential_protein_seqs.fasta\n",
      "Keep MBits: T\n",
      "Maximum file size: 3000000000B\n",
      "Adding sequences from FASTA; added 343 sequences in 0.00404906 seconds.\n",
      "\n",
      "\n"
     ]
    },
    {
     "name": "stderr",
     "output_type": "stream",
     "text": [
      "\n",
      "CommandNotFoundError: Your shell has not been properly configured to use 'conda activate'.\n",
      "To initialize your shell, run\n",
      "\n",
      "    $ conda init <SHELL_NAME>\n",
      "\n",
      "Currently supported shells are:\n",
      "  - bash\n",
      "  - fish\n",
      "  - tcsh\n",
      "  - xonsh\n",
      "  - zsh\n",
      "  - powershell\n",
      "\n",
      "See 'conda init --help' for more information and options.\n",
      "\n",
      "IMPORTANT: You may need to close and restart your shell after running 'conda init'.\n",
      "\n",
      "\n"
     ]
    },
    {
     "name": "stdout",
     "output_type": "stream",
     "text": [
      "\n",
      "\n",
      "Building a new DB, current time: 07/08/2024 12:37:33\n",
      "New DB name:   /Users/indragonzalez/Dropbox/Lipsitch_Rotation/NFDS/Scripts/clean_projects/CLARC/analyses/essential_genes/essential_fasta/strep_pneumo_essential_protein_seqs.fasta\n",
      "New DB title:  /Users/indragonzalez/Dropbox/Lipsitch_Rotation/NFDS/Scripts/clean_projects/CLARC/analyses/essential_genes/essential_fasta/strep_pneumo_essential_protein_seqs.fasta\n",
      "Sequence type: Protein\n",
      "Deleted existing Protein BLAST database named /Users/indragonzalez/Dropbox/Lipsitch_Rotation/NFDS/Scripts/clean_projects/CLARC/analyses/essential_genes/essential_fasta/strep_pneumo_essential_protein_seqs.fasta\n",
      "Keep MBits: T\n",
      "Maximum file size: 3000000000B\n",
      "Adding sequences from FASTA; added 343 sequences in 0.00388408 seconds.\n",
      "\n",
      "\n"
     ]
    },
    {
     "name": "stderr",
     "output_type": "stream",
     "text": [
      "\n",
      "CommandNotFoundError: Your shell has not been properly configured to use 'conda activate'.\n",
      "To initialize your shell, run\n",
      "\n",
      "    $ conda init <SHELL_NAME>\n",
      "\n",
      "Currently supported shells are:\n",
      "  - bash\n",
      "  - fish\n",
      "  - tcsh\n",
      "  - xonsh\n",
      "  - zsh\n",
      "  - powershell\n",
      "\n",
      "See 'conda init --help' for more information and options.\n",
      "\n",
      "IMPORTANT: You may need to close and restart your shell after running 'conda init'.\n",
      "\n",
      "\n"
     ]
    },
    {
     "name": "stdout",
     "output_type": "stream",
     "text": [
      "\n",
      "\n",
      "Building a new DB, current time: 07/08/2024 12:37:38\n",
      "New DB name:   /Users/indragonzalez/Dropbox/Lipsitch_Rotation/NFDS/Scripts/clean_projects/CLARC/analyses/essential_genes/essential_fasta/strep_pneumo_essential_protein_seqs.fasta\n",
      "New DB title:  /Users/indragonzalez/Dropbox/Lipsitch_Rotation/NFDS/Scripts/clean_projects/CLARC/analyses/essential_genes/essential_fasta/strep_pneumo_essential_protein_seqs.fasta\n",
      "Sequence type: Protein\n",
      "Deleted existing Protein BLAST database named /Users/indragonzalez/Dropbox/Lipsitch_Rotation/NFDS/Scripts/clean_projects/CLARC/analyses/essential_genes/essential_fasta/strep_pneumo_essential_protein_seqs.fasta\n",
      "Keep MBits: T\n",
      "Maximum file size: 3000000000B\n",
      "Adding sequences from FASTA; added 343 sequences in 0.00438094 seconds.\n",
      "\n",
      "\n"
     ]
    },
    {
     "name": "stderr",
     "output_type": "stream",
     "text": [
      "\n",
      "CommandNotFoundError: Your shell has not been properly configured to use 'conda activate'.\n",
      "To initialize your shell, run\n",
      "\n",
      "    $ conda init <SHELL_NAME>\n",
      "\n",
      "Currently supported shells are:\n",
      "  - bash\n",
      "  - fish\n",
      "  - tcsh\n",
      "  - xonsh\n",
      "  - zsh\n",
      "  - powershell\n",
      "\n",
      "See 'conda init --help' for more information and options.\n",
      "\n",
      "IMPORTANT: You may need to close and restart your shell after running 'conda init'.\n",
      "\n",
      "\n"
     ]
    },
    {
     "name": "stdout",
     "output_type": "stream",
     "text": [
      "\n",
      "\n",
      "Building a new DB, current time: 07/08/2024 12:37:42\n",
      "New DB name:   /Users/indragonzalez/Dropbox/Lipsitch_Rotation/NFDS/Scripts/clean_projects/CLARC/analyses/essential_genes/essential_fasta/strep_pneumo_essential_protein_seqs.fasta\n",
      "New DB title:  /Users/indragonzalez/Dropbox/Lipsitch_Rotation/NFDS/Scripts/clean_projects/CLARC/analyses/essential_genes/essential_fasta/strep_pneumo_essential_protein_seqs.fasta\n",
      "Sequence type: Protein\n",
      "Deleted existing Protein BLAST database named /Users/indragonzalez/Dropbox/Lipsitch_Rotation/NFDS/Scripts/clean_projects/CLARC/analyses/essential_genes/essential_fasta/strep_pneumo_essential_protein_seqs.fasta\n",
      "Keep MBits: T\n",
      "Maximum file size: 3000000000B\n",
      "Adding sequences from FASTA; added 343 sequences in 0.00378919 seconds.\n",
      "\n",
      "\n"
     ]
    },
    {
     "name": "stderr",
     "output_type": "stream",
     "text": [
      "\n",
      "CommandNotFoundError: Your shell has not been properly configured to use 'conda activate'.\n",
      "To initialize your shell, run\n",
      "\n",
      "    $ conda init <SHELL_NAME>\n",
      "\n",
      "Currently supported shells are:\n",
      "  - bash\n",
      "  - fish\n",
      "  - tcsh\n",
      "  - xonsh\n",
      "  - zsh\n",
      "  - powershell\n",
      "\n",
      "See 'conda init --help' for more information and options.\n",
      "\n",
      "IMPORTANT: You may need to close and restart your shell after running 'conda init'.\n",
      "\n",
      "\n"
     ]
    },
    {
     "name": "stdout",
     "output_type": "stream",
     "text": [
      "\n",
      "\n",
      "Building a new DB, current time: 07/08/2024 12:37:45\n",
      "New DB name:   /Users/indragonzalez/Dropbox/Lipsitch_Rotation/NFDS/Scripts/clean_projects/CLARC/analyses/essential_genes/essential_fasta/strep_pneumo_essential_protein_seqs.fasta\n",
      "New DB title:  /Users/indragonzalez/Dropbox/Lipsitch_Rotation/NFDS/Scripts/clean_projects/CLARC/analyses/essential_genes/essential_fasta/strep_pneumo_essential_protein_seqs.fasta\n",
      "Sequence type: Protein\n",
      "Deleted existing Protein BLAST database named /Users/indragonzalez/Dropbox/Lipsitch_Rotation/NFDS/Scripts/clean_projects/CLARC/analyses/essential_genes/essential_fasta/strep_pneumo_essential_protein_seqs.fasta\n",
      "Keep MBits: T\n",
      "Maximum file size: 3000000000B\n",
      "Adding sequences from FASTA; added 343 sequences in 0.00379992 seconds.\n",
      "\n",
      "\n"
     ]
    },
    {
     "name": "stderr",
     "output_type": "stream",
     "text": [
      "\n",
      "CommandNotFoundError: Your shell has not been properly configured to use 'conda activate'.\n",
      "To initialize your shell, run\n",
      "\n",
      "    $ conda init <SHELL_NAME>\n",
      "\n",
      "Currently supported shells are:\n",
      "  - bash\n",
      "  - fish\n",
      "  - tcsh\n",
      "  - xonsh\n",
      "  - zsh\n",
      "  - powershell\n",
      "\n",
      "See 'conda init --help' for more information and options.\n",
      "\n",
      "IMPORTANT: You may need to close and restart your shell after running 'conda init'.\n",
      "\n",
      "\n"
     ]
    },
    {
     "name": "stdout",
     "output_type": "stream",
     "text": [
      "\n",
      "\n",
      "Building a new DB, current time: 07/08/2024 12:37:50\n",
      "New DB name:   /Users/indragonzalez/Dropbox/Lipsitch_Rotation/NFDS/Scripts/clean_projects/CLARC/analyses/essential_genes/essential_fasta/strep_pneumo_essential_protein_seqs.fasta\n",
      "New DB title:  /Users/indragonzalez/Dropbox/Lipsitch_Rotation/NFDS/Scripts/clean_projects/CLARC/analyses/essential_genes/essential_fasta/strep_pneumo_essential_protein_seqs.fasta\n",
      "Sequence type: Protein\n",
      "Deleted existing Protein BLAST database named /Users/indragonzalez/Dropbox/Lipsitch_Rotation/NFDS/Scripts/clean_projects/CLARC/analyses/essential_genes/essential_fasta/strep_pneumo_essential_protein_seqs.fasta\n",
      "Keep MBits: T\n",
      "Maximum file size: 3000000000B\n",
      "Adding sequences from FASTA; added 343 sequences in 0.00407386 seconds.\n",
      "\n",
      "\n"
     ]
    },
    {
     "name": "stderr",
     "output_type": "stream",
     "text": [
      "\n",
      "CommandNotFoundError: Your shell has not been properly configured to use 'conda activate'.\n",
      "To initialize your shell, run\n",
      "\n",
      "    $ conda init <SHELL_NAME>\n",
      "\n",
      "Currently supported shells are:\n",
      "  - bash\n",
      "  - fish\n",
      "  - tcsh\n",
      "  - xonsh\n",
      "  - zsh\n",
      "  - powershell\n",
      "\n",
      "See 'conda init --help' for more information and options.\n",
      "\n",
      "IMPORTANT: You may need to close and restart your shell after running 'conda init'.\n",
      "\n",
      "\n"
     ]
    },
    {
     "name": "stdout",
     "output_type": "stream",
     "text": [
      "\n",
      "\n",
      "Building a new DB, current time: 07/08/2024 12:37:53\n",
      "New DB name:   /Users/indragonzalez/Dropbox/Lipsitch_Rotation/NFDS/Scripts/clean_projects/CLARC/analyses/essential_genes/essential_fasta/strep_pneumo_essential_protein_seqs.fasta\n",
      "New DB title:  /Users/indragonzalez/Dropbox/Lipsitch_Rotation/NFDS/Scripts/clean_projects/CLARC/analyses/essential_genes/essential_fasta/strep_pneumo_essential_protein_seqs.fasta\n",
      "Sequence type: Protein\n",
      "Deleted existing Protein BLAST database named /Users/indragonzalez/Dropbox/Lipsitch_Rotation/NFDS/Scripts/clean_projects/CLARC/analyses/essential_genes/essential_fasta/strep_pneumo_essential_protein_seqs.fasta\n",
      "Keep MBits: T\n",
      "Maximum file size: 3000000000B\n",
      "Adding sequences from FASTA; added 343 sequences in 0.00396204 seconds.\n",
      "\n",
      "\n"
     ]
    },
    {
     "name": "stderr",
     "output_type": "stream",
     "text": [
      "\n",
      "CommandNotFoundError: Your shell has not been properly configured to use 'conda activate'.\n",
      "To initialize your shell, run\n",
      "\n",
      "    $ conda init <SHELL_NAME>\n",
      "\n",
      "Currently supported shells are:\n",
      "  - bash\n",
      "  - fish\n",
      "  - tcsh\n",
      "  - xonsh\n",
      "  - zsh\n",
      "  - powershell\n",
      "\n",
      "See 'conda init --help' for more information and options.\n",
      "\n",
      "IMPORTANT: You may need to close and restart your shell after running 'conda init'.\n",
      "\n",
      "\n"
     ]
    },
    {
     "name": "stdout",
     "output_type": "stream",
     "text": [
      "\n",
      "\n",
      "Building a new DB, current time: 07/08/2024 12:37:57\n",
      "New DB name:   /Users/indragonzalez/Dropbox/Lipsitch_Rotation/NFDS/Scripts/clean_projects/CLARC/analyses/essential_genes/essential_fasta/strep_pneumo_essential_protein_seqs.fasta\n",
      "New DB title:  /Users/indragonzalez/Dropbox/Lipsitch_Rotation/NFDS/Scripts/clean_projects/CLARC/analyses/essential_genes/essential_fasta/strep_pneumo_essential_protein_seqs.fasta\n",
      "Sequence type: Protein\n",
      "Deleted existing Protein BLAST database named /Users/indragonzalez/Dropbox/Lipsitch_Rotation/NFDS/Scripts/clean_projects/CLARC/analyses/essential_genes/essential_fasta/strep_pneumo_essential_protein_seqs.fasta\n",
      "Keep MBits: T\n",
      "Maximum file size: 3000000000B\n",
      "Adding sequences from FASTA; added 343 sequences in 0.00390196 seconds.\n",
      "\n",
      "\n"
     ]
    },
    {
     "name": "stderr",
     "output_type": "stream",
     "text": [
      "\n",
      "CommandNotFoundError: Your shell has not been properly configured to use 'conda activate'.\n",
      "To initialize your shell, run\n",
      "\n",
      "    $ conda init <SHELL_NAME>\n",
      "\n",
      "Currently supported shells are:\n",
      "  - bash\n",
      "  - fish\n",
      "  - tcsh\n",
      "  - xonsh\n",
      "  - zsh\n",
      "  - powershell\n",
      "\n",
      "See 'conda init --help' for more information and options.\n",
      "\n",
      "IMPORTANT: You may need to close and restart your shell after running 'conda init'.\n",
      "\n",
      "\n"
     ]
    },
    {
     "name": "stdout",
     "output_type": "stream",
     "text": [
      "\n",
      "\n",
      "Building a new DB, current time: 07/08/2024 12:38:01\n",
      "New DB name:   /Users/indragonzalez/Dropbox/Lipsitch_Rotation/NFDS/Scripts/clean_projects/CLARC/analyses/essential_genes/essential_fasta/strep_pneumo_essential_protein_seqs.fasta\n",
      "New DB title:  /Users/indragonzalez/Dropbox/Lipsitch_Rotation/NFDS/Scripts/clean_projects/CLARC/analyses/essential_genes/essential_fasta/strep_pneumo_essential_protein_seqs.fasta\n",
      "Sequence type: Protein\n",
      "Deleted existing Protein BLAST database named /Users/indragonzalez/Dropbox/Lipsitch_Rotation/NFDS/Scripts/clean_projects/CLARC/analyses/essential_genes/essential_fasta/strep_pneumo_essential_protein_seqs.fasta\n",
      "Keep MBits: T\n",
      "Maximum file size: 3000000000B\n",
      "Adding sequences from FASTA; added 343 sequences in 0.00416183 seconds.\n",
      "\n",
      "\n"
     ]
    },
    {
     "name": "stderr",
     "output_type": "stream",
     "text": [
      "\n",
      "CommandNotFoundError: Your shell has not been properly configured to use 'conda activate'.\n",
      "To initialize your shell, run\n",
      "\n",
      "    $ conda init <SHELL_NAME>\n",
      "\n",
      "Currently supported shells are:\n",
      "  - bash\n",
      "  - fish\n",
      "  - tcsh\n",
      "  - xonsh\n",
      "  - zsh\n",
      "  - powershell\n",
      "\n",
      "See 'conda init --help' for more information and options.\n",
      "\n",
      "IMPORTANT: You may need to close and restart your shell after running 'conda init'.\n",
      "\n",
      "\n"
     ]
    },
    {
     "name": "stdout",
     "output_type": "stream",
     "text": [
      "\n",
      "\n",
      "Building a new DB, current time: 07/08/2024 12:38:05\n",
      "New DB name:   /Users/indragonzalez/Dropbox/Lipsitch_Rotation/NFDS/Scripts/clean_projects/CLARC/analyses/essential_genes/essential_fasta/strep_pneumo_essential_protein_seqs.fasta\n",
      "New DB title:  /Users/indragonzalez/Dropbox/Lipsitch_Rotation/NFDS/Scripts/clean_projects/CLARC/analyses/essential_genes/essential_fasta/strep_pneumo_essential_protein_seqs.fasta\n",
      "Sequence type: Protein\n",
      "Deleted existing Protein BLAST database named /Users/indragonzalez/Dropbox/Lipsitch_Rotation/NFDS/Scripts/clean_projects/CLARC/analyses/essential_genes/essential_fasta/strep_pneumo_essential_protein_seqs.fasta\n",
      "Keep MBits: T\n",
      "Maximum file size: 3000000000B\n",
      "Adding sequences from FASTA; added 343 sequences in 0.00388193 seconds.\n",
      "\n",
      "\n"
     ]
    },
    {
     "name": "stderr",
     "output_type": "stream",
     "text": [
      "\n",
      "CommandNotFoundError: Your shell has not been properly configured to use 'conda activate'.\n",
      "To initialize your shell, run\n",
      "\n",
      "    $ conda init <SHELL_NAME>\n",
      "\n",
      "Currently supported shells are:\n",
      "  - bash\n",
      "  - fish\n",
      "  - tcsh\n",
      "  - xonsh\n",
      "  - zsh\n",
      "  - powershell\n",
      "\n",
      "See 'conda init --help' for more information and options.\n",
      "\n",
      "IMPORTANT: You may need to close and restart your shell after running 'conda init'.\n",
      "\n",
      "\n"
     ]
    },
    {
     "name": "stdout",
     "output_type": "stream",
     "text": [
      "\n",
      "\n",
      "Building a new DB, current time: 07/08/2024 12:38:09\n",
      "New DB name:   /Users/indragonzalez/Dropbox/Lipsitch_Rotation/NFDS/Scripts/clean_projects/CLARC/analyses/essential_genes/essential_fasta/strep_pneumo_essential_protein_seqs.fasta\n",
      "New DB title:  /Users/indragonzalez/Dropbox/Lipsitch_Rotation/NFDS/Scripts/clean_projects/CLARC/analyses/essential_genes/essential_fasta/strep_pneumo_essential_protein_seqs.fasta\n",
      "Sequence type: Protein\n",
      "Deleted existing Protein BLAST database named /Users/indragonzalez/Dropbox/Lipsitch_Rotation/NFDS/Scripts/clean_projects/CLARC/analyses/essential_genes/essential_fasta/strep_pneumo_essential_protein_seqs.fasta\n",
      "Keep MBits: T\n",
      "Maximum file size: 3000000000B\n",
      "Adding sequences from FASTA; added 343 sequences in 0.00380802 seconds.\n",
      "\n",
      "\n"
     ]
    }
   ],
   "source": [
    "results_directory = \"~/i80\"\n",
    "counter = -1\n",
    "\n",
    "# Loop through all folders within the given folder\n",
    "for entry in os.listdir(results_directory):\n",
    "    path = os.path.join(results_directory, entry)\n",
    "    \n",
    "    if os.path.isdir(path):\n",
    "    \n",
    "        dir_name = entry\n",
    "        clarc_folder = path\n",
    "\n",
    "        out_path_essential = clarc_folder+'/essential_blasting_sw'\n",
    "\n",
    "        # Create directory\n",
    "        os.makedirs(out_path_essential, exist_ok=True)\n",
    "\n",
    "        # Example paths to your fasta files and output folder\n",
    "        og_acc_dna_fasta = clarc_folder+'/clarc_output/accessory_rep_seqs.fasta'\n",
    "        og_core_dna_fasta = clarc_folder+'/clarc_output/core_rep_seqs.fasta'\n",
    "\n",
    "        og_acc_protein_fasta = out_path_essential+'/og_acc_protein_rep_seqs.fasta'\n",
    "        og_blast_out_acc = out_path_essential+'/og_acc_protein_essential_blast.tsv'\n",
    "\n",
    "        og_core_protein_fasta = out_path_essential+'/og_core_protein_rep_seqs.fasta'\n",
    "        og_blast_out_core = out_path_essential+'/og_core_protein_essential_blast.tsv'\n",
    "\n",
    "        # Example paths to your fasta files and output folder\n",
    "        clarc_acc_dna_fasta = clarc_folder+'/clarc_output/clarc_results/clarc_acc_cog_seqs.fasta'\n",
    "        clarc_core_dna_fasta = clarc_folder+'/clarc_output/clarc_results/clarc_core_cog_seqs.fasta'\n",
    "\n",
    "        clarc_acc_protein_fasta = out_path_essential+'/clarc_acc_protein_rep_seqs.fasta'\n",
    "        clarc_blast_out_acc = out_path_essential+'/clarc_acc_protein_essential_blast.tsv'\n",
    "\n",
    "        clarc_core_protein_fasta = out_path_essential+'/clarc_core_protein_rep_seqs.fasta'\n",
    "        clarc_blast_out_core = out_path_essential+'/clarc_core_protein_essential_blast.tsv'\n",
    "\n",
    "        # Translate DNA to protein\n",
    "        translate_dna_to_protein(og_acc_dna_fasta, og_acc_protein_fasta)\n",
    "        translate_dna_to_protein(og_core_dna_fasta, og_core_protein_fasta)\n",
    "        translate_dna_to_protein(clarc_acc_dna_fasta, clarc_acc_protein_fasta)\n",
    "        translate_dna_to_protein(clarc_core_dna_fasta, clarc_core_protein_fasta)\n",
    "\n",
    "        # Run BLAST script\n",
    "\n",
    "        # For original method (Roary or Panaroo)\n",
    "        run_blast_script(og_acc_protein_fasta, og_core_protein_fasta, og_blast_out_acc, og_blast_out_core)\n",
    "\n",
    "        # For CLARC results\n",
    "        run_blast_script(clarc_acc_protein_fasta, clarc_core_protein_fasta, clarc_blast_out_acc, clarc_blast_out_core)"
   ]
  }
 ],
 "metadata": {
  "kernelspec": {
   "display_name": "Python 3 (ipykernel)",
   "language": "python",
   "name": "python3"
  },
  "language_info": {
   "codemirror_mode": {
    "name": "ipython",
    "version": 3
   },
   "file_extension": ".py",
   "mimetype": "text/x-python",
   "name": "python",
   "nbconvert_exporter": "python",
   "pygments_lexer": "ipython3",
   "version": "3.8.0"
  }
 },
 "nbformat": 4,
 "nbformat_minor": 5
}
